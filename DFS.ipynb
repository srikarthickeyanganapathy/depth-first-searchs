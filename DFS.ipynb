{
  "nbformat": 4,
  "nbformat_minor": 0,
  "metadata": {
    "colab": {
      "provenance": [],
      "authorship_tag": "ABX9TyO6WOBYWumO/eQGmexg5pXZ",
      "include_colab_link": true
    },
    "kernelspec": {
      "name": "python3",
      "display_name": "Python 3"
    },
    "language_info": {
      "name": "python"
    }
  },
  "cells": [
    {
      "cell_type": "markdown",
      "metadata": {
        "id": "view-in-github",
        "colab_type": "text"
      },
      "source": [
        "<a href=\"https://colab.research.google.com/github/srikarthickeyanganapathy/depth-first-searchs/blob/main/DFS.ipynb\" target=\"_parent\"><img src=\"https://colab.research.google.com/assets/colab-badge.svg\" alt=\"Open In Colab\"/></a>"
      ]
    },
    {
      "cell_type": "code",
      "execution_count": 2,
      "metadata": {
        "colab": {
          "base_uri": "https://localhost:8080/"
        },
        "id": "-HxEUnUBW5vs",
        "outputId": "6ac0d3be-8f07-4cfc-f9e0-32867e86accf"
      },
      "outputs": [
        {
          "output_type": "stream",
          "name": "stdout",
          "text": [
            "5 5\n",
            "0 1\n",
            "0 2\n",
            "0 3\n",
            "2 3\n",
            "2 4\n",
            "['0', '1', '2', '3', '4']\n"
          ]
        }
      ],
      "source": [
        "'''Depth First Search uses STACK AND RECURSION\n",
        "'''\n",
        "from collections import deque\n",
        "from collections import defaultdict\n",
        "\n",
        "def dfs(graph,start,visited,path):\n",
        "    path.append(start)\n",
        "    visited[start]=True\n",
        "    for node in graph[start]:\n",
        "       #type ur code here\n",
        "        if not visited[node]:\n",
        "            dfs(graph,node,visited,path)\n",
        "    return path\n",
        "graph=defaultdict(list)\n",
        "n,e=map(int,input().split())\n",
        "for i in range(e):\n",
        "   #type ur code here\n",
        "    u,v = input().split()\n",
        "    graph[u].append(v)\n",
        "    graph[v].append(u)\n",
        "#print(graph)\n",
        "start='0'\n",
        "visited=defaultdict(bool)\n",
        "path=[]\n",
        "traversedpath=dfs(graph,start,visited,path)\n",
        "print(traversedpath)"
      ]
    },
    {
      "cell_type": "code",
      "source": [
        "'''Depth First Search uses STACK AND RECURSION\n",
        "'''\n",
        "from collections import deque\n",
        "from collections import defaultdict\n",
        "\n",
        "def dfs(graph,start,visited,path):\n",
        "    path.append(start)\n",
        "    visited[start]=True\n",
        "    for node in graph[start]:\n",
        "       #type ur code here\n",
        "        if not visited[node]:\n",
        "            dfs(graph,node,visited,path)\n",
        "    return path\n",
        "graph=defaultdict(list)\n",
        "n,e=map(int,input().split())\n",
        "for i in range(e):\n",
        "   #type ur code here\n",
        "    u,v = input().split()\n",
        "    graph[u].append(v)\n",
        "    graph[v].append(u)\n",
        "start='A'\n",
        "visited=defaultdict(bool)\n",
        "path=[]\n",
        "traversedpath=dfs(graph,start,visited,path)\n",
        "print(traversedpath)"
      ],
      "metadata": {
        "colab": {
          "base_uri": "https://localhost:8080/"
        },
        "id": "NcI1RXrafMmk",
        "outputId": "301ff16f-7080-47f7-c2bc-e61d55f97872"
      },
      "execution_count": 3,
      "outputs": [
        {
          "output_type": "stream",
          "name": "stdout",
          "text": [
            "8 9\n",
            "A B\n",
            "A C\n",
            "B E\n",
            "C D\n",
            "B D\n",
            "C G\n",
            "D F\n",
            "G F\n",
            "F H\n",
            "['A', 'B', 'E', 'D', 'C', 'G', 'F', 'H']\n"
          ]
        }
      ]
    }
  ]
}