{
  "nbformat": 4,
  "nbformat_minor": 0,
  "metadata": {
    "colab": {
      "provenance": [],
      "authorship_tag": "ABX9TyO8SgeDAJ69sq6srL9ropEK",
      "include_colab_link": true
    },
    "kernelspec": {
      "name": "python3",
      "display_name": "Python 3"
    },
    "language_info": {
      "name": "python"
    }
  },
  "cells": [
    {
      "cell_type": "markdown",
      "metadata": {
        "id": "view-in-github",
        "colab_type": "text"
      },
      "source": [
        "<a href=\"https://colab.research.google.com/github/srikarthickeyanganapathy/depth-first-searchs/blob/main/DFS.ipynb\" target=\"_parent\"><img src=\"https://colab.research.google.com/assets/colab-badge.svg\" alt=\"Open In Colab\"/></a>"
      ]
    },
    {
      "cell_type": "code",
      "execution_count": 8,
      "metadata": {
        "colab": {
          "base_uri": "https://localhost:8080/"
        },
        "id": "-HxEUnUBW5vs",
        "outputId": "9c6a9114-b74c-478e-f012-e9c3fe2cbd5d"
      },
      "outputs": [
        {
          "output_type": "stream",
          "name": "stdout",
          "text": [
            "5 5\n",
            "0 1\n",
            "0 2\n",
            "0 3\n",
            "2 3\n",
            "2 4\n",
            "['0', '1', '2', '3', '4']\n"
          ]
        }
      ],
      "source": [
        "'''Depth First Search uses STACK AND RECURSION\n",
        "'''\n",
        "from collections import deque\n",
        "from collections import defaultdict\n",
        "\n",
        "def dfs(graph,start,visited,path):\n",
        "    path.append(start)\n",
        "    visited[start]=True\n",
        "    for node in graph[start]:\n",
        "       #type ur code here\n",
        "        if not visited[node]:\n",
        "            dfs(graph,node,visited,path)\n",
        "    return path\n",
        "graph=defaultdict(list)\n",
        "n,e=map(int,input().split())\n",
        "for i in range(e):\n",
        "   #type ur code here\n",
        "    u,v = input().split()\n",
        "    graph[u].append(v)\n",
        "#print(graph)\n",
        "start='0'\n",
        "visited=defaultdict(bool)\n",
        "path=[]\n",
        "traversedpath=dfs(graph,start,visited,path)\n",
        "print(traversedpath)"
      ]
    }
  ]
}